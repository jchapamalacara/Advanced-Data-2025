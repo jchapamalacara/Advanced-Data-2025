{
 "cells": [
  {
   "cell_type": "code",
   "execution_count": null,
   "id": "faac43c4-b47d-4a5f-9c37-bec9129c33b9",
   "metadata": {},
   "outputs": [],
   "source": []
  }
 ],
 "metadata": {
  "kernelspec": {
   "display_name": "",
   "name": ""
  },
  "language_info": {
   "name": ""
  }
 },
 "nbformat": 4,
 "nbformat_minor": 5
}
