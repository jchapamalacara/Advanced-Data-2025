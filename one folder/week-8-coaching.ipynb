{
 "cells": [
  {
   "cell_type": "code",
   "execution_count": 5,
   "id": "23914736-0ca1-4ab0-b786-70280cac9b8f",
   "metadata": {},
   "outputs": [],
   "source": [
    "import pandas as pd"
   ]
  },
  {
   "cell_type": "code",
   "execution_count": 23,
   "id": "8822f35a-50a5-4cab-b059-5f1cacfdc9c5",
   "metadata": {},
   "outputs": [
    {
     "name": "stdout",
     "output_type": "stream",
     "text": [
      "blah\n",
      "cherryis a damn good pie\n",
      "1\n",
      "appleis a damn good pie\n",
      "2\n"
     ]
    }
   ],
   "source": [
    "fruits = [ \"blueberry\", \"cherry\", \"apple\"]\n",
    "counter = 0\n",
    "\n",
    "for flavor in fruits:\n",
    "    if flavor == \"apple\" or flavor == \"cherry\":\n",
    "        print(flavor + \"is a damn good pie\")\n",
    "        counter += 1\n",
    "        print(counter)\n",
    "    else: print(\"blah\")\n",
    "\n"
   ]
  },
  {
   "cell_type": "code",
   "execution_count": null,
   "id": "1c64be2d-6dad-4bef-95f1-899bc0f6012f",
   "metadata": {},
   "outputs": [],
   "source": []
  },
  {
   "cell_type": "code",
   "execution_count": null,
   "id": "b04b67d9-459b-4c63-aef8-d0c7fc184911",
   "metadata": {},
   "outputs": [],
   "source": []
  },
  {
   "cell_type": "code",
   "execution_count": null,
   "id": "7f186b40-8f91-4050-91ec-bbeb8e9a2455",
   "metadata": {},
   "outputs": [],
   "source": []
  },
  {
   "cell_type": "code",
   "execution_count": null,
   "id": "7b63723d-f5fd-460b-b877-69ce037ba5ea",
   "metadata": {},
   "outputs": [],
   "source": []
  }
 ],
 "metadata": {
  "kernelspec": {
   "display_name": "Python [conda env:base] *",
   "language": "python",
   "name": "conda-base-py"
  },
  "language_info": {
   "codemirror_mode": {
    "name": "ipython",
    "version": 3
   },
   "file_extension": ".py",
   "mimetype": "text/x-python",
   "name": "python",
   "nbconvert_exporter": "python",
   "pygments_lexer": "ipython3",
   "version": "3.12.7"
  }
 },
 "nbformat": 4,
 "nbformat_minor": 5
}
